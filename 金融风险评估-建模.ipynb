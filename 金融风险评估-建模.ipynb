{
 "cells": [
  {
   "cell_type": "code",
   "execution_count": 9,
   "metadata": {},
   "outputs": [
    {
     "name": "stdout",
     "output_type": "stream",
     "text": [
      "0.7304725755227364\n"
     ]
    }
   ],
   "source": [
    "#逻辑回归\n",
    "from sklearn.linear_model import LogisticRegression\n",
    "from sklearn.model_selection import GridSearchCV\n",
    "import numpy as np\n",
    "from sklearn.metrics import roc_auc_score\n",
    "lr = LogisticRegression(class_weight='balanced')\n",
    "# param_dict = {'C':[0.5,1.0,2.0],'tol':[0.0001,0.00001,0.000001]}\n",
    "# lr_gdc = GridSearchCV(lr,param_grid=param_dict,cv=3)\n",
    "# lr_gdc.fit(X_train,y_train)\n",
    "lr.fit(X_train,y_train)\n",
    "# y_predict_proba = lr_gdc.predict_proba(X_test)\n",
    "y_predict_proba = lr.predict_proba(X_test)[:, 1]\n",
    "lr_auc = roc_auc_score(y_test,y_predict_proba)\n",
    "print(lr_auc)\n",
    "# print('最佳参数：',lr_gdc.best_params_)   "
   ]
  },
  {
   "cell_type": "code",
   "execution_count": 16,
   "metadata": {},
   "outputs": [
    {
     "name": "stdout",
     "output_type": "stream",
     "text": [
      "val auc Score: 0.683728\n",
      "val auc Score: 0.677184\n",
      "val auc Score: 0.701283\n",
      "val auc Score: 0.671532\n",
      "val auc Score: 0.694978\n",
      "Linear stretch of predictions to [0,1]\n",
      "blend result\n",
      "val auc Score: 0.692051\n"
     ]
    }
   ],
   "source": [
    "#blend融合\n",
    "from sklearn import datasets\n",
    "from sklearn.preprocessing import StandardScaler\n",
    "from sklearn.ensemble import RandomForestClassifier, ExtraTreesClassifier, GradientBoostingClassifier\n",
    "from sklearn.model_selection import train_test_split\n",
    "from sklearn.cross_validation import StratifiedKFold\n",
    "import numpy as np\n",
    "import pandas as pd\n",
    "from sklearn.metrics import roc_auc_score\n",
    "from sklearn.datasets.samples_generator import make_blobs\n",
    "import matplotlib.pyplot as plt\n",
    "\n",
    "def data_show(X,y):\n",
    "    plt.scatter(X[:,0],X[:,1],c=y)\n",
    "    plt.show()\n",
    "\n",
    "\n",
    "def blend(X,X_predict,y,y_predict):\n",
    "    '''5折'''\n",
    "    # n_flods = 5\n",
    "    # skf = list(StratifiedKFold(y, n_folds=n_flods))\n",
    "    '''切分训练数据集为d1,d2两部分'''\n",
    "    X_d1, X_d2, y_d1, y_d2 = train_test_split(X, y, test_size=0.7, random_state=2017)\n",
    "\n",
    "    dataset_d1 = np.zeros((X_d2.shape[0],len(clfs)))\n",
    "    dataset_d2 = np.zeros((X_predict.shape[0],len(clfs)))\n",
    "\n",
    "    for j,clf in enumerate(clfs):\n",
    "        '''依次训练各个单模型'''\n",
    "        # print(j, clf)\n",
    "        '''使用第1个部分作为预测，第2部分来训练模型，获得其预测的输出作为第2部分的新特征。'''\n",
    "        # X_train, y_train, X_test, y_test = X[train], y[train], X[test], y[test]\n",
    "        clf.fit(X_d1,y_d1)\n",
    "        y_submission = clf.predict_proba(X_d2)[:, 1]\n",
    "        dataset_d1[:,j] = y_submission\n",
    "        '''对于测试集，直接用这k个模型的预测值作为新的特征。'''\n",
    "        dataset_d2[:, j] = clf.predict_proba(X_predict)[:, 1]\n",
    "        print(\"val auc Score: %f\" % roc_auc_score(y_predict, dataset_d2[:, j]))\n",
    "\n",
    "    '''使用模型融合'''\n",
    "    clf = GradientBoostingClassifier(learning_rate=0.2,subsample=0.5,max_depth=6,n_estimators=30)\n",
    "    clf.fit(dataset_d1,y_d2)\n",
    "    y_submission = clf.predict_proba(dataset_d2)[:,1]\n",
    "    print(\"Linear stretch of predictions to [0,1]\")\n",
    "    y_submission = (y_submission - y_submission.min()) / (y_submission.max() - y_submission.min())\n",
    "    print(\"blend result\")\n",
    "    print(\"val auc Score: %f\" % (roc_auc_score(y_predict, y_submission)))\n",
    "\n",
    "\n",
    "if __name__ == \"__main__\":\n",
    "    data =  pd.read_csv('treated_data.csv')\n",
    "    data,target = data.drop(['target'],axis=1),data['target']\n",
    "    \n",
    "    # data_show(data,target)#查看数据分布\n",
    "    '''模型融合中使用到的各个单模型'''\n",
    "    clfs = [LogisticRegression(class_weight='balanced'),\n",
    "            RandomForestClassifier(n_estimators=400, min_samples_leaf=3,max_depth=12,max_features=0.14357,min_samples_split=6,n_jobs=-1, criterion='gini'),        \n",
    "            RandomForestClassifier(n_estimators=400, min_samples_leaf=7,max_depth=6,max_features=0.07,min_samples_split=6,n_jobs=-1, criterion='entropy'),\n",
    "            ExtraTreesClassifier(n_estimators=400, n_jobs=-1, criterion='gini'),\n",
    "            ExtraTreesClassifier(n_estimators=400, n_jobs=-1, criterion='entropy')]\n",
    "#             GradientBoostingClassifier(learning_rate=0.05, subsample=0.5, max_depth=6, n_estimators=5)\n",
    "#             ]\n",
    "\n",
    "    data =  pd.read_csv('treated_data.csv')\n",
    "    data,target = data.drop(['target'],axis=1),data['target']\n",
    "    X_train,X_test,y_train,y_test = train_test_split(data,target,test_size=0.33,random_state=2019)\n",
    "    transformer = StandardScaler()\n",
    "    X_train = transformer.fit_transform(X_train)\n",
    "    X_test = transformer.transform(X_test)\n",
    "    blend(X_train,X_test,y_train,y_test)"
   ]
  },
  {
   "cell_type": "code",
   "execution_count": 18,
   "metadata": {},
   "outputs": [
    {
     "name": "stdout",
     "output_type": "stream",
     "text": [
      "0.7481624447988132\n"
     ]
    }
   ],
   "source": [
    "#软投票融合\n",
    "import numpy as np\n",
    "from sklearn.linear_model import LogisticRegression\n",
    "from sklearn.ensemble import RandomForestClassifier, VotingClassifier\n",
    "clf1=LogisticRegression(class_weight='balanced')\n",
    "clf2=RandomForestClassifier(n_estimators=400, min_samples_leaf=3,max_depth=12,max_features=0.14357,min_samples_split=6,n_jobs=-1, criterion='gini')         \n",
    "clf3=ExtraTreesClassifier(n_estimators=400, n_jobs=-1, criterion='entropy')\n",
    "eclf = VotingClassifier(estimators=[('lr', clf1), ('rf', clf2), ('et', clf3)],voting='soft')\n",
    "eclf = eclf.fit(X_train,y_train)\n",
    "y_predict_proba = eclf.predict_proba(X_test)[:, 1]\n",
    "lr_auc = roc_auc_score(y_test,y_predict_proba)\n",
    "print(lr_auc)\n",
    "\n"
   ]
  },
  {
   "cell_type": "code",
   "execution_count": 19,
   "metadata": {},
   "outputs": [
    {
     "data": {
      "text/plain": [
       "['final_model.pkl']"
      ]
     },
     "execution_count": 19,
     "metadata": {},
     "output_type": "execute_result"
    }
   ],
   "source": [
    "from sklearn.externals import joblib\n",
    "joblib.dump(eclf, \"final_model.pkl\")"
   ]
  },
  {
   "cell_type": "code",
   "execution_count": null,
   "metadata": {},
   "outputs": [],
   "source": []
  }
 ],
 "metadata": {
  "kernelspec": {
   "display_name": "Python 3",
   "language": "python",
   "name": "python3"
  },
  "language_info": {
   "codemirror_mode": {
    "name": "ipython",
    "version": 3
   },
   "file_extension": ".py",
   "mimetype": "text/x-python",
   "name": "python",
   "nbconvert_exporter": "python",
   "pygments_lexer": "ipython3",
   "version": "3.7.0"
  }
 },
 "nbformat": 4,
 "nbformat_minor": 2
}
